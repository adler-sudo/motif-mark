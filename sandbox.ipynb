{
 "cells": [
  {
   "cell_type": "markdown",
   "id": "2478bc59",
   "metadata": {},
   "source": [
    "## Pycairo"
   ]
  },
  {
   "cell_type": "code",
   "execution_count": 12,
   "id": "b48ac13e",
   "metadata": {},
   "outputs": [],
   "source": [
    "import cairo\n",
    "import math\n",
    "from IPython.display import SVG, display, Image\n",
    "import re"
   ]
  },
  {
   "cell_type": "code",
   "execution_count": 13,
   "id": "23af9225",
   "metadata": {},
   "outputs": [],
   "source": [
    "def show_img(file):\n",
    "    display(Image(filename=file))\n",
    "    \n",
    "def show_svg(file):\n",
    "    display(SVG(filename=file))"
   ]
  },
  {
   "cell_type": "code",
   "execution_count": 17,
   "id": "6828b397",
   "metadata": {},
   "outputs": [
    {
     "data": {
      "image/svg+xml": [
       "<svg xmlns=\"http://www.w3.org/2000/svg\" xmlns:xlink=\"http://www.w3.org/1999/xlink\" width=\"100pt\" height=\"100pt\" viewBox=\"0 0 100 100\" version=\"1.1\">\n",
       "<g id=\"surface21\">\n",
       "<path style=\"fill:none;stroke-width:1;stroke-linecap:butt;stroke-linejoin:miter;stroke:rgb(50%,50%,50%);stroke-opacity:1;stroke-miterlimit:10;\" d=\"M 0 50 L 25 50 \"/>\n",
       "<path style=\"fill:none;stroke-width:1;stroke-linecap:butt;stroke-linejoin:miter;stroke:rgb(50%,50%,50%);stroke-opacity:1;stroke-miterlimit:10;\" d=\"M 50 50 L 100 50 \"/>\n",
       "<path style=\" stroke:none;fill-rule:nonzero;fill:rgb(50%,50%,50%);fill-opacity:1;\" d=\"M 25 25 L 75 25 L 75 75 L 25 75 Z M 25 25 \"/>\n",
       "</g>\n",
       "</svg>"
      ],
      "text/plain": [
       "<IPython.core.display.SVG object>"
      ]
     },
     "metadata": {},
     "output_type": "display_data"
    }
   ],
   "source": [
    "surface = cairo.SVGSurface('plot.svg',100,100)\n",
    "\n",
    "context = cairo.Context(surface)\n",
    "context.set_source_rgb(.5,.5,.5)\n",
    "context.set_line_width(1)\n",
    "context.move_to(0,50)\n",
    "context.line_to(25, 50)\n",
    "context.stroke()\n",
    "context.move_to(50,50)\n",
    "context.line_to(100,50)\n",
    "context.stroke()\n",
    "\n",
    "context.rectangle(25,25,50,50)\n",
    "context.fill()\n",
    "# surface.write_to_png('plot.png')\n",
    "surface.finish()\n",
    "\n",
    "show_svg('plot.svg')"
   ]
  },
  {
   "cell_type": "code",
   "execution_count": 4,
   "id": "c49fd59a",
   "metadata": {},
   "outputs": [],
   "source": [
    "a = {'a':10,'b':2}"
   ]
  },
  {
   "cell_type": "code",
   "execution_count": 11,
   "id": "02258a34",
   "metadata": {},
   "outputs": [
    {
     "name": "stdout",
     "output_type": "stream",
     "text": [
      "a\n",
      "b\n"
     ]
    }
   ],
   "source": [
    "for k in a:\n",
    "    print(k)"
   ]
  },
  {
   "cell_type": "code",
   "execution_count": 18,
   "id": "36c4c0ab",
   "metadata": {},
   "outputs": [],
   "source": [
    "class Hello:\n",
    "    def __init__(self,name):\n",
    "        self.name = name"
   ]
  },
  {
   "cell_type": "code",
   "execution_count": 31,
   "id": "b1555f99",
   "metadata": {},
   "outputs": [],
   "source": [
    "\n",
    "a = Hello('me')\n",
    "\n"
   ]
  },
  {
   "cell_type": "code",
   "execution_count": 20,
   "id": "c3c66630",
   "metadata": {},
   "outputs": [],
   "source": [
    "b = {'one': a}"
   ]
  },
  {
   "cell_type": "code",
   "execution_count": 23,
   "id": "27dd50a4",
   "metadata": {},
   "outputs": [
    {
     "data": {
      "text/plain": [
       "'me'"
      ]
     },
     "execution_count": 23,
     "metadata": {},
     "output_type": "execute_result"
    }
   ],
   "source": [
    "b['one'].name"
   ]
  },
  {
   "cell_type": "code",
   "execution_count": 32,
   "id": "521a3baf",
   "metadata": {},
   "outputs": [],
   "source": [
    "b[a] = 'andrew'"
   ]
  },
  {
   "cell_type": "code",
   "execution_count": 44,
   "id": "ffc02999",
   "metadata": {},
   "outputs": [
    {
     "name": "stdout",
     "output_type": "stream",
     "text": [
      "you\n",
      "me\n"
     ]
    }
   ],
   "source": [
    "for k in b:\n",
    "    print(k.name)"
   ]
  },
  {
   "cell_type": "code",
   "execution_count": null,
   "id": "85380de8",
   "metadata": {},
   "outputs": [],
   "source": []
  },
  {
   "cell_type": "code",
   "execution_count": null,
   "id": "f9a5215d",
   "metadata": {},
   "outputs": [],
   "source": []
  },
  {
   "cell_type": "code",
   "execution_count": null,
   "id": "1850ca5b",
   "metadata": {},
   "outputs": [],
   "source": []
  },
  {
   "cell_type": "markdown",
   "id": "db80753a",
   "metadata": {},
   "source": [
    "## OOP"
   ]
  },
  {
   "cell_type": "code",
   "execution_count": null,
   "id": "1ef6e158",
   "metadata": {},
   "outputs": [],
   "source": []
  },
  {
   "cell_type": "code",
   "execution_count": null,
   "id": "99237dbb",
   "metadata": {},
   "outputs": [],
   "source": []
  },
  {
   "cell_type": "code",
   "execution_count": null,
   "id": "39e6e201",
   "metadata": {},
   "outputs": [],
   "source": []
  },
  {
   "cell_type": "code",
   "execution_count": null,
   "id": "7db28f55",
   "metadata": {},
   "outputs": [],
   "source": []
  },
  {
   "cell_type": "code",
   "execution_count": null,
   "id": "25d078c5",
   "metadata": {},
   "outputs": [],
   "source": []
  }
 ],
 "metadata": {
  "kernelspec": {
   "display_name": "Python 3",
   "language": "python",
   "name": "python3"
  },
  "language_info": {
   "codemirror_mode": {
    "name": "ipython",
    "version": 3
   },
   "file_extension": ".py",
   "mimetype": "text/x-python",
   "name": "python",
   "nbconvert_exporter": "python",
   "pygments_lexer": "ipython3",
   "version": "3.9.7"
  }
 },
 "nbformat": 4,
 "nbformat_minor": 5
}
